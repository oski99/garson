{
  "nbformat": 4,
  "nbformat_minor": 0,
  "metadata": {
    "colab": {
      "provenance": [],
      "collapsed_sections": [],
      "authorship_tag": "ABX9TyN/NG+SB96Yn/lp003ANOLU",
      "include_colab_link": true
    },
    "kernelspec": {
      "name": "python3",
      "display_name": "Python 3"
    },
    "language_info": {
      "name": "python"
    },
    "accelerator": "GPU"
  },
  "cells": [
    {
      "cell_type": "markdown",
      "metadata": {
        "id": "view-in-github",
        "colab_type": "text"
      },
      "source": [
        "<a href=\"https://colab.research.google.com/github/oski99/garson/blob/main/Lab2.ipynb\" target=\"_parent\"><img src=\"https://colab.research.google.com/assets/colab-badge.svg\" alt=\"Open In Colab\"/></a>"
      ]
    },
    {
      "cell_type": "code",
      "execution_count": null,
      "metadata": {
        "id": "EsCVa75BcxVX",
        "colab": {
          "base_uri": "https://localhost:8080/"
        },
        "outputId": "8e3d1473-838c-44ef-92c1-17cc50ae04db"
      },
      "outputs": [
        {
          "output_type": "stream",
          "name": "stdout",
          "text": [
            "Drive already mounted at /content/drive; to attempt to forcibly remount, call drive.mount(\"/content/drive\", force_remount=True).\n"
          ]
        }
      ],
      "source": [
        "import cv2\n",
        "import numpy as np\n",
        "import matplotlib.pyplot as plt\n",
        "import random\n",
        "\n",
        "from google.colab import drive\n",
        "drive.mount('/content/drive')"
      ]
    },
    {
      "cell_type": "code",
      "source": [
        "lena = cv2.imread('/content/drive/MyDrive/deep_learning/lena.jpg')\n",
        "\n",
        "def random_bg():\n",
        "  width = random.randint(0,256-32)\n",
        "  height = random.randint(0,256-32)\n",
        "  return lena[width:width+32,height:height+32,:].copy()\n",
        "plt.imshow(random_bg())"
      ],
      "metadata": {
        "colab": {
          "base_uri": "https://localhost:8080/",
          "height": 283
        },
        "id": "lxAwDXNkYptw",
        "outputId": "386e025f-d441-4461-e774-81d920502aa6"
      },
      "execution_count": null,
      "outputs": [
        {
          "output_type": "execute_result",
          "data": {
            "text/plain": [
              "<matplotlib.image.AxesImage at 0x7f62381d6fd0>"
            ]
          },
          "metadata": {},
          "execution_count": 15
        },
        {
          "output_type": "display_data",
          "data": {
            "text/plain": [
              "<Figure size 432x288 with 1 Axes>"
            ],
            "image/png": "[encoded data removed]"
          },
          "metadata": {
            "needs_background": "light"
          }
        }
      ]
    },
    {
      "cell_type": "code",
      "source": [
        "width = 16\n",
        "height = 16\n",
        "thickness = 2\n",
        "white_color = (255,255,255)\n",
        "canvas = np.zeros((width,height,3), dtype='uint8')"
      ],
      "metadata": {
        "id": "q7v4ayFxc3n8"
      },
      "execution_count": null,
      "outputs": []
    },
    {
      "cell_type": "code",
      "source": [
        "circle_shape = cv2.circle(canvas.copy(), (width//2, height//2), radius=(width//2) - thickness, color=white_color, thickness=thickness)\n",
        "plt.imshow(circle_shape)"
      ],
      "metadata": {
        "colab": {
          "base_uri": "https://localhost:8080/",
          "height": 282
        },
        "id": "AnT_IIn5dFRO",
        "outputId": "60758621-173d-4ef2-f04f-db8d6b48d2a4"
      },
      "execution_count": null,
      "outputs": [
        {
          "output_type": "execute_result",
          "data": {
            "text/plain": [
              "<matplotlib.image.AxesImage at 0x7f62381d0150>"
            ]
          },
          "metadata": {},
          "execution_count": 17
        },
        {
          "output_type": "display_data",
          "data": {
            "text/plain": [
              "<Figure size 432x288 with 1 Axes>"
            ],
            "image/png": "[encoded data removed]"
          },
          "metadata": {
            "needs_background": "light"
          }
        }
      ]
    },
    {
      "cell_type": "code",
      "source": [
        "plus_shape = cv2.line(canvas.copy(), (width//2, 0), (width//2, height), color=white_color, thickness=thickness)\n",
        "plus_shape = cv2.line(plus_shape, (0, height//2), (width, height//2), color=white_color, thickness=thickness)\n",
        "plt.imshow(plus_shape)"
      ],
      "metadata": {
        "colab": {
          "base_uri": "https://localhost:8080/",
          "height": 282
        },
        "id": "DxdPZk-2djx-",
        "outputId": "5fcc1a82-2727-4182-9c0a-1d11772aad03"
      },
      "execution_count": null,
      "outputs": [
        {
          "output_type": "execute_result",
          "data": {
            "text/plain": [
              "<matplotlib.image.AxesImage at 0x7f62380b3a10>"
            ]
          },
          "metadata": {},
          "execution_count": 19
        },
        {
          "output_type": "display_data",
          "data": {
            "text/plain": [
              "<Figure size 432x288 with 1 Axes>"
            ],
            "image/png": "[encoded data removed]"
          },
          "metadata": {
            "needs_background": "light"
          }
        }
      ]
    },
    {
      "cell_type": "code",
      "source": [
        "cross_shape = cv2.line(canvas.copy(), (0, 0), (width, height), color=white_color, thickness=thickness)\n",
        "cross_shape = cv2.line(cross_shape, (-1, height), (width-1, 0), color=white_color, thickness=thickness)\n",
        "plt.imshow(cross_shape)"
      ],
      "metadata": {
        "colab": {
          "base_uri": "https://localhost:8080/",
          "height": 282
        },
        "id": "LU6pE-beeIe4",
        "outputId": "ce6e5667-4219-42f5-9fb6-f1e08a792452"
      },
      "execution_count": null,
      "outputs": [
        {
          "output_type": "execute_result",
          "data": {
            "text/plain": [
              "<matplotlib.image.AxesImage at 0x7f623802e410>"
            ]
          },
          "metadata": {},
          "execution_count": 20
        },
        {
          "output_type": "display_data",
          "data": {
            "text/plain": [
              "<Figure size 432x288 with 1 Axes>"
            ],
            "image/png": "[encoded data removed]"
          },
          "metadata": {
            "needs_background": "light"
          }
        }
      ]
    },
    {
      "cell_type": "code",
      "source": [
        "def generate32(shape):\n",
        "  canvas = np.zeros((32,32))\n",
        "  images = []\n",
        "  for x in range(17): \n",
        "    for y in range(17): \n",
        "\n",
        "      blank_image = canvas.copy()   \n",
        "      blank_image[x:x+16,y:y+16] = shape[:,:,1]\n",
        "      new_image = cv2.add(blank_image, canvas) \n",
        "      images.append(new_image)\n",
        "  return images\n",
        "\n",
        "def generate32_bg(shape):\n",
        "  canvas = np.zeros((32,32,3), dtype='uint8')\n",
        "  images = []\n",
        "  for x in range(17): \n",
        "    for y in range(17): \n",
        "\n",
        "      blank_image = canvas.copy()   \n",
        "      blank_image[x:x+16,y:y+16,:] = shape[:,:,:]\n",
        "      new_image = cv2.add(blank_image, random_bg()) \n",
        "      images.append(new_image)\n",
        "  return images\n",
        "\n",
        "for shape in [[cross_shape, 'cross'], [plus_shape, 'plus'], [circle_shape, 'circle']]:\n",
        "  generated_bg = generate32_bg(shape[0])\n",
        "  generated = generate32(shape[0])\n",
        "  for num in range(len(generated)):\n",
        "    cv2.imwrite(f'drive/MyDrive/deep_learning/dataset/{shape[1]}/{num}.png', generated[num])\n",
        "    cv2.imwrite(f'drive/MyDrive/deep_learning/dataset_bg/{shape[1]}/{num}.png', generated_bg[num])\n",
        "    # plt.imshow(generated[num], cmap='gray')\n",
        "    # plt.show()"
      ],
      "metadata": {
        "id": "mIvycpQzfkfu"
      },
      "execution_count": null,
      "outputs": []
    }
  ]
}